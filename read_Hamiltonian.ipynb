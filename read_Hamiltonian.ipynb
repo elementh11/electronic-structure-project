{
 "cells": [
  {
   "cell_type": "code",
   "execution_count": 45,
   "metadata": {},
   "outputs": [],
   "source": [
    "import numpy as np"
   ]
  },
  {
   "cell_type": "code",
   "execution_count": 108,
   "metadata": {},
   "outputs": [],
   "source": [
    "def read_Wannier_data(seedname):\n",
    "\n",
    "\n",
    "    \"\"\"\n",
    "    A function used to post-process and save the output of the Wannier90 code\n",
    "\n",
    "    ...\n",
    "\n",
    "    Attributes\n",
    "    ----------\n",
    "    seedname : string\n",
    "        location of the Wannier90 output file \"seedname_hr.dat\"\n",
    "\n",
    "    Returns\n",
    "    -------\n",
    "    \"degeneracy.npy\"\n",
    "        Returns the array of degeneracies\n",
    "    \"matrix.npy\"\n",
    "        Returns the array of matrices\n",
    "    \"displacement.npy\"\n",
    "        Returns the array of displacements\n",
    "    \"\"\" \n",
    "    \n",
    "    \n",
    "    # read data from 'seedname_hr.dat'\n",
    "    with open(seedname) as h:\n",
    "        ham_data = h.readlines()\n",
    "    ham_data = [x.strip() for x in ham_data]\n",
    "    num_wann = int(ham_data[1])\n",
    "    nrpts = int(ham_data[2])\n",
    "    \n",
    "    # save degeneracy information\n",
    "    nrows_deg = int(np.ceil(nrpts/15))\n",
    "    degen = []\n",
    "    for row_idx in range(3, nrows_deg + 3):\n",
    "        row_data = list(map(int, ''.join(list(ham_data[row_idx])).split()))\n",
    "        degen.extend(row_data)\n",
    "    degen = np.asarray(degen)\n",
    "    print(degen)\n",
    "    np.save('degeneracy',degen)\n",
    "    \n",
    "    # save matrices and displacements\n",
    "    matrices = []\n",
    "    displ = []\n",
    "\n",
    "    for point in range(1, nrpts+1):\n",
    "        hamtemp = np.zeros((num_wann, num_wann), dtype = complex)\n",
    "        for _ in range(1, num_wann**2 + 1):\n",
    "            row_idx += 1\n",
    "            row_data = list(map(float, ''.join(list(ham_data[row_idx])).split()))\n",
    "            row, col = map(int, row_data[3:5])\n",
    "            re_ham, im_ham = row_data[5:7]\n",
    "            hamtemp[row - 1][col - 1] = re_ham + 1j * im_ham\n",
    "        matrices.append(hamtemp)\n",
    "\n",
    "        disp_data = row_data[:3]\n",
    "        displ.append(disp_data)\n",
    "\n",
    "    matrices = np.asarray(matrices)\n",
    "    displ = np.asarray(displ)\n",
    "    np.save('matrix', matrices)\n",
    "    np.save('displacement',displ)    "
   ]
  },
  {
   "cell_type": "code",
   "execution_count": 109,
   "metadata": {},
   "outputs": [
    {
     "name": "stdout",
     "output_type": "stream",
     "text": [
      "[3 2 1 1 2 2 1 1 1 1 1 2 2 1 1 1 1 1 1 1 1 2 2 1 1 1 1 1 1 1 1 1 1 1 2 2 1\n",
      " 1 1 1 1 1 1 1 1 1 1 1 1 1 2 2 1 1 1 1 1 1 1 1 1 1 1 1 1 1 1 1 1 2 3 1 1 1\n",
      " 1 1 1 1 1 1 1 1 1 1 1 1 1 1 1 1 1 3 1 1 1 1 1 1 1 1 1 1 1 1 1 1 1 1 1 1 1\n",
      " 1 1 2 1 1 1 1 1 1 1 1 1 1 1 1 1 1 1 1 1 1 1 1 2 1 1 1 1 1 1 1 1 1 1 1 1 1\n",
      " 1 1 1 1 1 1 1 1 2 1 1 1 1 1 1 1 1 1 1 1 1 1 1 1 1 1 1 1 1 2 1 1 1 1 1 1 1\n",
      " 1 1 1 1 1 1 1 1 1 1 1 1 1 1 2 1 1 1 1 1 1 1 1 1 1 1 1 1 1 1 1 1 1 1 1 2 1\n",
      " 1 1 1 1 1 1 1 1 1 1 1 1 1 1 1 1 1 1 1 1 2 1 1 1 1 1 1 1 1 1 1 1 1 1 1 1 1\n",
      " 1 1 1 1 2 1 1 1 1 1 1 1 1 1 1 1 1 1 1 1 1 1 1 1 1 1 2 1 1 1 1 1 1 1 1 1 1\n",
      " 1 1 1 1 1 1 1 1 1 1 2 1 1 1 1 1 1 1 1 1 1 1 1 1 1 1 1 1 1 1 1 1 2 1 1 1 1\n",
      " 1 1 1 1 1 1 1 1 1 1 1 1 1 1 1 1 2 1 1 1 1 1 1 1 1 1 1 1 1 1 1 1 1 1 1 1 1\n",
      " 1 3 1 1 1 1 1 1 1 1 1 1 1 1 1 1 1 1 1 1 1 1 3 2 1 1 1 1 1 1 1 1 1 1 1 1 1\n",
      " 1 1 1 1 2 2 1 1 1 1 1 1 1 1 1 1 1 1 1 1 2 2 1 1 1 1 1 1 1 1 1 1 1 2 2 1 1\n",
      " 1 1 1 1 1 1 2 2 1 1 1 1 1 2 2 1 1 2 3]\n"
     ]
    }
   ],
   "source": [
    "read_Wannier_data('aa_hr.dat')"
   ]
  },
  {
   "cell_type": "code",
   "execution_count": 103,
   "metadata": {},
   "outputs": [],
   "source": [
    "# read data from 'seedname_hr.dat'\n",
    "seedname = 'aa_hr.dat'\n",
    "with open(seedname) as h:\n",
    "    ham_data = h.readlines()\n",
    "ham_data = [x.strip() for x in ham_data]\n",
    "num_wann = int(ham_data[1])\n",
    "nrpts = int(ham_data[2])\n",
    "\n",
    "    "
   ]
  },
  {
   "cell_type": "code",
   "execution_count": 97,
   "metadata": {},
   "outputs": [
    {
     "name": "stdout",
     "output_type": "stream",
     "text": [
      "[3 2 1 1 2 2 1 1 1 1 1 2 2 1 1 1 1 1 1 1 1 2 2 1 1 1 1 1 1 1 1 1 1 1 2 2 1\n",
      " 1 1 1 1 1 1 1 1 1 1 1 1 1 2 2 1 1 1 1 1 1 1 1 1 1 1 1 1 1 1 1 1 2 3 1 1 1\n",
      " 1 1 1 1 1 1 1 1 1 1 1 1 1 1 1 1 1 3 1 1 1 1 1 1 1 1 1 1 1 1 1 1 1 1 1 1 1\n",
      " 1 1 2 1 1 1 1 1 1 1 1 1 1 1 1 1 1 1 1 1 1 1 1 2 1 1 1 1 1 1 1 1 1 1 1 1 1\n",
      " 1 1 1 1 1 1 1 1 2 1 1 1 1 1 1 1 1 1 1 1 1 1 1 1 1 1 1 1 1 2 1 1 1 1 1 1 1\n",
      " 1 1 1 1 1 1 1 1 1 1 1 1 1 1 2 1 1 1 1 1 1 1 1 1 1 1 1 1 1 1 1 1 1 1 1 2 1\n",
      " 1 1 1 1 1 1 1 1 1 1 1 1 1 1 1 1 1 1 1 1 2 1 1 1 1 1 1 1 1 1 1 1 1 1 1 1 1\n",
      " 1 1 1 1 2 1 1 1 1 1 1 1 1 1 1 1 1 1 1 1 1 1 1 1 1 1 2 1 1 1 1 1 1 1 1 1 1\n",
      " 1 1 1 1 1 1 1 1 1 1 2 1 1 1 1 1 1 1 1 1 1 1 1 1 1 1 1 1 1 1 1 1 2 1 1 1 1\n",
      " 1 1 1 1 1 1 1 1 1 1 1 1 1 1 1 1 2 1 1 1 1 1 1 1 1 1 1 1 1 1 1 1 1 1 1 1 1\n",
      " 1 3 1 1 1 1 1 1 1 1 1 1 1 1 1 1 1 1 1 1 1 1 3 2 1 1 1 1 1 1 1 1 1 1 1 1 1\n",
      " 1 1 1 1 2 2 1 1 1 1 1 1 1 1 1 1 1 1 1 1 2 2 1 1 1 1 1 1 1 1 1 1 1 2 2 1 1\n",
      " 1 1 1 1 1 1 2 2 1 1 1 1 1 2 2 1 1 2 3]\n"
     ]
    }
   ],
   "source": [
    "# save degeneracy information\n",
    "nrows_deg = int(np.ceil(nrpts/15))\n",
    "degen = []\n",
    "for row_idx in range(3, nrows_deg + 3):\n",
    "    row_data = list(map(int, ''.join(list(ham_data[row_idx])).split()))\n",
    "    degen.extend(row_data)\n",
    "degen = np.asarray(degen)\n",
    "print(degen)\n",
    "np.save('degeneracy',degen)\n",
    "#np.savetxt('deg.csv', degen, fmt=\"%d\", delimiter=\",\")\n"
   ]
  },
  {
   "cell_type": "code",
   "execution_count": 98,
   "metadata": {},
   "outputs": [],
   "source": [
    "# save matrices and displacements\n",
    "matrices = []\n",
    "displ = []\n",
    "\n",
    "for point in range(1, nrpts+1):\n",
    "    hamtemp = np.zeros((num_wann, num_wann), dtype = complex)\n",
    "    for _ in range(1, num_wann**2 + 1):\n",
    "        row_idx += 1\n",
    "        row_data = list(map(float, ''.join(list(ham_data[row_idx])).split()))\n",
    "        row, col = map(int, row_data[3:5])\n",
    "        re_ham, im_ham = row_data[5:7]\n",
    "        hamtemp[row - 1][col - 1] = re_ham + 1j * im_ham\n",
    "    matrices.append(hamtemp)\n",
    "    \n",
    "    disp_data = row_data[:3]\n",
    "    displ.append(disp_data)\n",
    "    \n",
    "matrices = np.asarray(matrices)\n",
    "displ = np.asarray(displ)\n",
    "np.save('matrix', matrices)\n",
    "np.save('displacement',displ)"
   ]
  },
  {
   "cell_type": "code",
   "execution_count": 100,
   "metadata": {},
   "outputs": [
    {
     "data": {
      "text/plain": [
       "array([-14.,  -7.,   0.])"
      ]
     },
     "execution_count": 100,
     "metadata": {},
     "output_type": "execute_result"
    }
   ],
   "source": [
    "displ[0]"
   ]
  },
  {
   "cell_type": "code",
   "execution_count": 110,
   "metadata": {},
   "outputs": [
    {
     "data": {
      "text/plain": [
       "(463, 32, 32)"
      ]
     },
     "execution_count": 110,
     "metadata": {},
     "output_type": "execute_result"
    }
   ],
   "source": [
    "np.shape(matrices)"
   ]
  },
  {
   "cell_type": "code",
   "execution_count": 102,
   "metadata": {},
   "outputs": [
    {
     "data": {
      "text/plain": [
       "(32, 32)"
      ]
     },
     "execution_count": 102,
     "metadata": {},
     "output_type": "execute_result"
    }
   ],
   "source": [
    "np.shape(matrices[0])"
   ]
  },
  {
   "cell_type": "code",
   "execution_count": null,
   "metadata": {},
   "outputs": [],
   "source": []
  }
 ],
 "metadata": {
  "kernelspec": {
   "display_name": "Python 3",
   "language": "python",
   "name": "python3"
  },
  "language_info": {
   "codemirror_mode": {
    "name": "ipython",
    "version": 3
   },
   "file_extension": ".py",
   "mimetype": "text/x-python",
   "name": "python",
   "nbconvert_exporter": "python",
   "pygments_lexer": "ipython3",
   "version": "3.7.0"
  }
 },
 "nbformat": 4,
 "nbformat_minor": 2
}
