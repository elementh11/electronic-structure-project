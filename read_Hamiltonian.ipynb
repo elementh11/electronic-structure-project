{
 "cells": [
  {
   "cell_type": "code",
   "execution_count": 45,
   "metadata": {},
   "outputs": [],
   "source": [
    "import numpy as np"
   ]
  },
  {
   "cell_type": "code",
   "execution_count": 69,
   "metadata": {},
   "outputs": [
    {
     "name": "stdout",
     "output_type": "stream",
     "text": [
      "[4 2 2 2 2 2 2 2 2 2 2 2 2 2 4 2 1 1 1 1 1 1 1 1 1 1 1 1 1 2 2 1 1 1 1 1 1\n",
      " 1 1 1 1 1 1 1 2 2 1 1 1 1 1 1 1 1 1 1 1 1 1 2 2 1 1 1 1 1 1 1 1 1 1 1 1 1\n",
      " 2 2 1 1 1 1 1 1 1 1 1 1 1 1 1 2 2 1 1 1 1 1 1 1 1 1 1 1 1 1 2 2 1 1 1 1 1\n",
      " 1 1 1 1 1 1 1 1 2 2 1 1 1 1 1 1 1 1 1 1 1 1 1 2 2 1 1 1 1 1 1 1 1 1 1 1 1\n",
      " 1 2 2 1 1 1 1 1 1 1 1 1 1 1 1 1 2 2 1 1 1 1 1 1 1 1 1 1 1 1 1 2 2 1 1 1 1\n",
      " 1 1 1 1 1 1 1 1 1 2 2 1 1 1 1 1 1 1 1 1 1 1 1 1 2 4 2 2 2 2 2 2 2 2 2 2 2\n",
      " 2 2 4]\n"
     ]
    }
   ],
   "source": [
    "with open('mote2_hr.dat') as h:\n",
    "    ham = h.readlines()\n",
    "ham = [x.strip() for x in ham]\n",
    "num_wann = int(ham[1])\n",
    "nrpts = int(ham[2])\n",
    "\n",
    "nrows = int(np.ceil(nrpts/15))\n",
    "deg = []\n",
    "for i in range(3,nrows+3):\n",
    "    nn = list(map(int, ''.join(list(ham[i])).split()))\n",
    "    deg.extend(nn)\n",
    "degen = np.asarray(deg)\n",
    "print(degen)\n",
    "np.save('deg',degen)\n",
    "#np.savetxt('deg.csv', degen, fmt=\"%d\", delimiter=\",\")\n"
   ]
  },
  {
   "cell_type": "code",
   "execution_count": 73,
   "metadata": {},
   "outputs": [
    {
     "data": {
      "text/plain": [
       "2"
      ]
     },
     "execution_count": 73,
     "metadata": {},
     "output_type": "execute_result"
    }
   ],
   "source": [
    "yyy = np.load('deg.npy')\n",
    "yyy[1]"
   ]
  },
  {
   "cell_type": "code",
   "execution_count": 63,
   "metadata": {},
   "outputs": [
    {
     "name": "stdout",
     "output_type": "stream",
     "text": [
      "1 1 (-8e-05+0j) [-7.0, -7.0, 0.0, 1.0, 1.0, -8e-05, 0.0]\n",
      "2 1 0j [-7.0, -7.0, 0.0, 2.0, 1.0, 0.0, -0.0]\n",
      "3 1 (-7.2e-05+0j) [-7.0, -7.0, 0.0, 3.0, 1.0, -7.2e-05, -0.0]\n",
      "4 1 (-3.4e-05+0j) [-7.0, -7.0, 0.0, 4.0, 1.0, -3.4e-05, -0.0]\n",
      "5 1 -2e-06j [-7.0, -7.0, 0.0, 5.0, 1.0, 0.0, -2e-06]\n",
      "6 1 (-0-1e-06j) [-7.0, -7.0, 0.0, 6.0, 1.0, -0.0, -1e-06]\n"
     ]
    }
   ],
   "source": [
    "i=17\n",
    "matrices = []\n",
    "\n",
    "for xx in range(1,3):\n",
    "    hamtemp = np.zeros((7,7), dtype = complex)\n",
    "    for ii in range(1, 4):\n",
    "        i+=1\n",
    "        nn = list(map(float, ''.join(list(ham[i])).split()))\n",
    "        m, n = map(int, nn[3:5])\n",
    "        reham, imham = nn[5:7]\n",
    "        hamtemp[m-1][n-1] = reham + 1j*imham\n",
    "        print(m,n,reham + 1j*imham,nn)\n",
    "    matrices.append(hamtemp)\n",
    "matrices = np.asarray(matrices)\n",
    "np.save('matrix', matrices)"
   ]
  },
  {
   "cell_type": "code",
   "execution_count": 64,
   "metadata": {},
   "outputs": [],
   "source": [
    "xxx=np.load('matrix.npy')"
   ]
  },
  {
   "cell_type": "code",
   "execution_count": 75,
   "metadata": {},
   "outputs": [
    {
     "data": {
      "text/plain": [
       "array([[ 0.0e+00+0.e+00j,  0.0e+00+0.e+00j,  0.0e+00+0.e+00j,\n",
       "         0.0e+00+0.e+00j,  0.0e+00+0.e+00j,  0.0e+00+0.e+00j,\n",
       "         0.0e+00+0.e+00j],\n",
       "       [ 0.0e+00+0.e+00j,  0.0e+00+0.e+00j,  0.0e+00+0.e+00j,\n",
       "         0.0e+00+0.e+00j,  0.0e+00+0.e+00j,  0.0e+00+0.e+00j,\n",
       "         0.0e+00+0.e+00j],\n",
       "       [ 0.0e+00+0.e+00j,  0.0e+00+0.e+00j,  0.0e+00+0.e+00j,\n",
       "         0.0e+00+0.e+00j,  0.0e+00+0.e+00j,  0.0e+00+0.e+00j,\n",
       "         0.0e+00+0.e+00j],\n",
       "       [-3.4e-05+0.e+00j,  0.0e+00+0.e+00j,  0.0e+00+0.e+00j,\n",
       "         0.0e+00+0.e+00j,  0.0e+00+0.e+00j,  0.0e+00+0.e+00j,\n",
       "         0.0e+00+0.e+00j],\n",
       "       [ 0.0e+00-2.e-06j,  0.0e+00+0.e+00j,  0.0e+00+0.e+00j,\n",
       "         0.0e+00+0.e+00j,  0.0e+00+0.e+00j,  0.0e+00+0.e+00j,\n",
       "         0.0e+00+0.e+00j],\n",
       "       [-0.0e+00-1.e-06j,  0.0e+00+0.e+00j,  0.0e+00+0.e+00j,\n",
       "         0.0e+00+0.e+00j,  0.0e+00+0.e+00j,  0.0e+00+0.e+00j,\n",
       "         0.0e+00+0.e+00j],\n",
       "       [ 0.0e+00+0.e+00j,  0.0e+00+0.e+00j,  0.0e+00+0.e+00j,\n",
       "         0.0e+00+0.e+00j,  0.0e+00+0.e+00j,  0.0e+00+0.e+00j,\n",
       "         0.0e+00+0.e+00j]])"
      ]
     },
     "execution_count": 75,
     "metadata": {},
     "output_type": "execute_result"
    }
   ],
   "source": [
    "xxx[1]"
   ]
  },
  {
   "cell_type": "code",
   "execution_count": null,
   "metadata": {},
   "outputs": [],
   "source": []
  }
 ],
 "metadata": {
  "kernelspec": {
   "display_name": "Python 3",
   "language": "python",
   "name": "python3"
  },
  "language_info": {
   "codemirror_mode": {
    "name": "ipython",
    "version": 3
   },
   "file_extension": ".py",
   "mimetype": "text/x-python",
   "name": "python",
   "nbconvert_exporter": "python",
   "pygments_lexer": "ipython3",
   "version": "3.7.0"
  }
 },
 "nbformat": 4,
 "nbformat_minor": 2
}
