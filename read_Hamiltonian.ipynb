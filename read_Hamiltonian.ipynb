{
 "cells": [
  {
   "cell_type": "code",
   "execution_count": 45,
   "metadata": {},
   "outputs": [],
   "source": [
    "import numpy as np"
   ]
  },
  {
   "cell_type": "code",
   "execution_count": 90,
   "metadata": {},
   "outputs": [],
   "source": [
    "# read data from 'seedname_hr.dat'\n",
    "with open('mote2_hr.dat') as h:\n",
    "    ham_data = h.readlines()\n",
    "ham_data = [x.strip() for x in ham_data]\n",
    "num_wann = int(ham_data[1])\n",
    "nrpts = int(ham_data[2])"
   ]
  },
  {
   "cell_type": "code",
   "execution_count": 94,
   "metadata": {},
   "outputs": [
    {
     "name": "stdout",
     "output_type": "stream",
     "text": [
      "[4 2 2 2 2 2 2 2 2 2 2 2 2 2 4 2 1 1 1 1 1 1 1 1 1 1 1 1 1 2 2 1 1 1 1 1 1\n",
      " 1 1 1 1 1 1 1 2 2 1 1 1 1 1 1 1 1 1 1 1 1 1 2 2 1 1 1 1 1 1 1 1 1 1 1 1 1\n",
      " 2 2 1 1 1 1 1 1 1 1 1 1 1 1 1 2 2 1 1 1 1 1 1 1 1 1 1 1 1 1 2 2 1 1 1 1 1\n",
      " 1 1 1 1 1 1 1 1 2 2 1 1 1 1 1 1 1 1 1 1 1 1 1 2 2 1 1 1 1 1 1 1 1 1 1 1 1\n",
      " 1 2 2 1 1 1 1 1 1 1 1 1 1 1 1 1 2 2 1 1 1 1 1 1 1 1 1 1 1 1 1 2 2 1 1 1 1\n",
      " 1 1 1 1 1 1 1 1 1 2 2 1 1 1 1 1 1 1 1 1 1 1 1 1 2 4 2 2 2 2 2 2 2 2 2 2 2\n",
      " 2 2 4]\n"
     ]
    }
   ],
   "source": [
    "# save degeneracy information\n",
    "nrows_deg = int(np.ceil(nrpts/15))\n",
    "degen = []\n",
    "for row_idx in range(3, nrows_deg + 3):\n",
    "    row_data = list(map(int, ''.join(list(ham_data[row_idx])).split()))\n",
    "    degen.extend(row_data)\n",
    "degen = np.asarray(degen)\n",
    "print(degen)\n",
    "np.save('degeneracy',degen)\n",
    "#np.savetxt('deg.csv', degen, fmt=\"%d\", delimiter=\",\")\n"
   ]
  },
  {
   "cell_type": "code",
   "execution_count": 78,
   "metadata": {},
   "outputs": [
    {
     "name": "stdout",
     "output_type": "stream",
     "text": [
      "1 1 (-8e-05+0j) [-7.0, -7.0, 0.0, 1.0, 1.0, -8e-05, 0.0]\n",
      "2 1 0j [-7.0, -7.0, 0.0, 2.0, 1.0, 0.0, -0.0]\n",
      "3 1 (-7.2e-05+0j) [-7.0, -7.0, 0.0, 3.0, 1.0, -7.2e-05, -0.0]\n",
      "4 1 (-3.4e-05+0j) [-7.0, -7.0, 0.0, 4.0, 1.0, -3.4e-05, -0.0]\n",
      "5 1 -2e-06j [-7.0, -7.0, 0.0, 5.0, 1.0, 0.0, -2e-06]\n",
      "6 1 (-0-1e-06j) [-7.0, -7.0, 0.0, 6.0, 1.0, -0.0, -1e-06]\n"
     ]
    }
   ],
   "source": [
    "# save matrices and displacements\n",
    "matrices = []\n",
    "displ = []\n",
    "\n",
    "for point in range(1, nrpts+1):\n",
    "    hamtemp = np.zeros((num_wann, num_wann), dtype = complex)\n",
    "    for _ in range(1, num_wann**2 + 1):\n",
    "        row_idx += 1\n",
    "        row_data = list(map(float, ''.join(list(ham_data[row_idx])).split()))\n",
    "        row, col = map(int, row_data[3:5])\n",
    "        re_ham, im_ham = row_data[5:7]\n",
    "        hamtemp[row - 1][col - 1] = re_ham + 1j * im_ham\n",
    "    matrices.append(hamtemp)\n",
    "    \n",
    "    disp_data = row_data[:3]\n",
    "    displ.append(disp_data)\n",
    "    \n",
    "matrices = np.asarray(matrices)\n",
    "displ = np.asarray(displ)\n",
    "np.save('matrix', matrices)\n",
    "np.save('displacement',displ)"
   ]
  },
  {
   "cell_type": "code",
   "execution_count": 80,
   "metadata": {},
   "outputs": [
    {
     "data": {
      "text/plain": [
       "array([[-7., -7.,  0.],\n",
       "       [-7., -7.,  0.]])"
      ]
     },
     "execution_count": 80,
     "metadata": {},
     "output_type": "execute_result"
    }
   ],
   "source": [
    "zzz=np.load('displ.npy')\n",
    "zzz"
   ]
  },
  {
   "cell_type": "code",
   "execution_count": 89,
   "metadata": {},
   "outputs": [
    {
     "data": {
      "text/plain": [
       "(2, 3)"
      ]
     },
     "execution_count": 89,
     "metadata": {},
     "output_type": "execute_result"
    }
   ],
   "source": [
    "np.shape(zzz)"
   ]
  },
  {
   "cell_type": "code",
   "execution_count": null,
   "metadata": {},
   "outputs": [],
   "source": []
  }
 ],
 "metadata": {
  "kernelspec": {
   "display_name": "Python 3",
   "language": "python",
   "name": "python3"
  },
  "language_info": {
   "codemirror_mode": {
    "name": "ipython",
    "version": 3
   },
   "file_extension": ".py",
   "mimetype": "text/x-python",
   "name": "python",
   "nbconvert_exporter": "python",
   "pygments_lexer": "ipython3",
   "version": "3.7.0"
  }
 },
 "nbformat": 4,
 "nbformat_minor": 2
}
