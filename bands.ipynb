{
 "cells": [
  {
   "cell_type": "code",
   "execution_count": 133,
   "metadata": {},
   "outputs": [],
   "source": [
    "\"\"\" Bandstructure calculator \n",
    "\n",
    "This script allows the user to do bandstructure calculations\n",
    "\n",
    "This script requires as input the lattice parameters information\n",
    "\n",
    "    * alat: lattice constant\n",
    "    * a1, a2, a3: lattice vectors (in terms of alat)\n",
    "\n",
    "Also it requires prior Wannier90 post-processing from \"helper.py\" library\n",
    "and the k-path from \"k_path.npy\"\n",
    "\n",
    "It saves the array of bands to \"bands.npy\"\n",
    "\"\"\"\n",
    "\n",
    "import numpy as np\n",
    "\n",
    "alat = 12.0616\n",
    "a1 = np.array([   1.000000,   0.000000,   0.000000 ]) * alat\n",
    "a2 = np.array([   0.000000,   0.540617,   0.000000 ]) * alat\n",
    "a3 = np.array([   0.000000,   0.000000,   3.158529 ]) * alat\n",
    "\n",
    "####################################################\n",
    "#### no need to change anything below this line ####\n",
    "####################################################\n",
    "\n",
    "vol = np.absolute(np.dot(np.cross(a1,a2),a3));\n",
    "b1 = 2 * np.pi * np.cross(a2,a3) / vol;\n",
    "b2 = 2 * np.pi * np.cross(a3,a1) / vol;\n",
    "b3 = 2 * np.pi * np.cross(a1,a2) / vol;\n",
    "\n",
    "degen = np.load('degeneracy.npy')\n",
    "disp = np.load('displacement.npy')\n",
    "matrices = np.load('matrix.npy')\n",
    "kpoints = np.load('k_path.npy')\n",
    "\n",
    "nrpts, dim, dim = np.shape(matrices)\n",
    "eigen = []\n",
    "\n",
    "for kc in range(np.shape(kpoints)[1]):\n",
    "    k1, k2, k3 = kpoints[:, kc]\n",
    "    k = k1*b1 + k2*b2 + k3*b3\n",
    "    ham = np.zeros((dim, dim), dtype = complex)\n",
    "    \n",
    "    for count in range(nrpts):\n",
    "        d1, d2, d3 = disp[count, :]\n",
    "        r = d1*a1 + d2*a2 + d3*a3\n",
    "        matrix = matrices[count, :, :]\n",
    "        ham += matrix * np.exp(1j * np.dot(k, r)) * degen[count]\n",
    "        \n",
    "    ham = (ham + ham.conj().T) / 2\n",
    "    ek = np.real(np.linalg.eigvals(ham))\n",
    "    eigen.append(ek)\n",
    "\n",
    "np.save('bands', eigen)"
   ]
  },
  {
   "cell_type": "code",
   "execution_count": 11,
   "metadata": {},
   "outputs": [],
   "source": [
    "alat = 12.0616\n",
    "a1 = np.array([   1.000000,   0.000000,   0.000000 ]) * alat\n",
    "a2 = np.array([   0.000000,   0.540617,   0.000000 ]) * alat\n",
    "a3 = np.array([   0.000000,   0.000000,   3.158529 ]) * alat"
   ]
  },
  {
   "cell_type": "code",
   "execution_count": 22,
   "metadata": {},
   "outputs": [],
   "source": [
    "vol = np.absolute(np.dot(np.cross(a1,a2),a3));\n",
    "b1 = 2 * np.pi * np.cross(a2,a3) / vol;\n",
    "b2 = 2 * np.pi * np.cross(a3,a1) / vol;\n",
    "b3 = 2 * np.pi * np.cross(a1,a2) / vol;"
   ]
  },
  {
   "cell_type": "code",
   "execution_count": 109,
   "metadata": {},
   "outputs": [],
   "source": [
    "degen = np.load('degeneracy.npy')\n",
    "disp = np.load('displacement.npy')\n",
    "matrices = np.load('matrix.npy')\n",
    "kpoints = np.load('k_path.npy')"
   ]
  },
  {
   "cell_type": "code",
   "execution_count": 112,
   "metadata": {},
   "outputs": [
    {
     "data": {
      "text/plain": [
       "90"
      ]
     },
     "execution_count": 112,
     "metadata": {},
     "output_type": "execute_result"
    }
   ],
   "source": [
    "nrpts, dim, dim = np.shape(matrices)\n",
    "np.shape(kpoints)[1]"
   ]
  },
  {
   "cell_type": "code",
   "execution_count": 126,
   "metadata": {},
   "outputs": [],
   "source": [
    "eigen = []\n",
    "for kc in range(np.shape(kpoints)[1]):\n",
    "    k1, k2, k3 = kpoints[:, kc]\n",
    "    k = k1*b1 + k2*b2 + k3*b3\n",
    "    ham = np.zeros((dim, dim), dtype = complex)\n",
    "    \n",
    "    for count in range(nrpts):\n",
    "        d1, d2, d3 = disp[count, :]\n",
    "        r = d1*a1 + d2*a2 + d3*a3\n",
    "        matrix = matrices[count, :, :]\n",
    "        ham += matrix * np.exp(1j * np.dot(k, r)) * degen[count]\n",
    "        \n",
    "    ham = (ham + ham.conj().T) / 2\n",
    "    ek = np.real(np.linalg.eigvals(ham))\n",
    "    eigen.append(ek)\n",
    "\n",
    "np.save('bands', eigen)"
   ]
  },
  {
   "cell_type": "code",
   "execution_count": 127,
   "metadata": {},
   "outputs": [
    {
     "data": {
      "text/plain": [
       "(90, 32)"
      ]
     },
     "execution_count": 127,
     "metadata": {},
     "output_type": "execute_result"
    }
   ],
   "source": [
    "np.shape(eigen)"
   ]
  },
  {
   "cell_type": "code",
   "execution_count": 132,
   "metadata": {},
   "outputs": [
    {
     "data": {
      "text/plain": [
       "(32,)"
      ]
     },
     "execution_count": 132,
     "metadata": {},
     "output_type": "execute_result"
    }
   ],
   "source": [
    "np.shape(ek)"
   ]
  },
  {
   "cell_type": "code",
   "execution_count": 108,
   "metadata": {},
   "outputs": [
    {
     "data": {
      "text/plain": [
       "array([ 1.91949362e-04,  1.91675000e-04, -1.42920132e-04, -1.39198159e-04,\n",
       "       -1.16219645e-04, -1.15428543e-04,  1.22809310e-04,  1.21064788e-04,\n",
       "        9.66917632e-05,  9.78043159e-05,  5.40717824e-05,  5.30100236e-05,\n",
       "        4.30061849e-05,  4.38902301e-05, -3.30878199e-05, -3.17898833e-05,\n",
       "        2.16235892e-05,  2.04605848e-05, -2.22595142e-05, -2.15057209e-05,\n",
       "        9.85535370e-06,  9.18277943e-06, -1.22924775e-05, -1.13716393e-05,\n",
       "       -8.65051062e-06, -9.30020608e-06,  3.89029604e-06,  3.02339235e-06,\n",
       "       -2.51737067e-06, -1.91006088e-06, -2.48947437e-07,  6.91874482e-07])"
      ]
     },
     "execution_count": 108,
     "metadata": {},
     "output_type": "execute_result"
    }
   ],
   "source": [
    "ek = np.real(np.linalg.eigvals(ham))\n",
    "ek"
   ]
  },
  {
   "cell_type": "code",
   "execution_count": 107,
   "metadata": {},
   "outputs": [
    {
     "data": {
      "text/plain": [
       "(32,)"
      ]
     },
     "execution_count": 107,
     "metadata": {},
     "output_type": "execute_result"
    }
   ],
   "source": [
    "np.shape(ek)"
   ]
  },
  {
   "cell_type": "code",
   "execution_count": null,
   "metadata": {},
   "outputs": [],
   "source": []
  }
 ],
 "metadata": {
  "kernelspec": {
   "display_name": "Python 3",
   "language": "python",
   "name": "python3"
  },
  "language_info": {
   "codemirror_mode": {
    "name": "ipython",
    "version": 3
   },
   "file_extension": ".py",
   "mimetype": "text/x-python",
   "name": "python",
   "nbconvert_exporter": "python",
   "pygments_lexer": "ipython3",
   "version": "3.7.0"
  }
 },
 "nbformat": 4,
 "nbformat_minor": 2
}
