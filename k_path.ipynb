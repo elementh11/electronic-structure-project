{
 "cells": [
  {
   "cell_type": "code",
   "execution_count": 104,
   "metadata": {},
   "outputs": [],
   "source": [
    "\"\"\" k path generator \n",
    "\n",
    "This script allows the user to generate the k-path in the BZ for bandstructure calculations\n",
    "\n",
    "This script requires as input the k_points dictionary containing\n",
    "\n",
    "    * high-symmetry points\n",
    "    * the path sequence\n",
    "    * total number of high-symmetry points: n_sym_pts\n",
    "    * number of k-points along one symmetry line: n_line_pts\n",
    "    \n",
    "It saves the \"k_path.npy\" file to disc with the array of k-points\n",
    "\"\"\"\n",
    "\n",
    "import numpy as np\n",
    "\n",
    "k_points = {'K': [1/3, 1/3, 0],\n",
    "            'G': [0, 0, 0],\n",
    "            'M': [1/2, 0, 0],\n",
    "            'path': ['K', 'G', 'M', 'K'],\n",
    "            'n_sym_pts': 4,\n",
    "            'n_line_pts': 30\n",
    "           }\n",
    "\n",
    "####################################################\n",
    "#### no need to change anything below this line ####\n",
    "####################################################\n",
    "\n",
    "nkpts = k_points['n_sym_pts']\n",
    "npts = k_points['n_line_pts']\n",
    "path = k_points['path']\n",
    "\n",
    "kxlist=[]\n",
    "kylist=[]\n",
    "kzlist=[]\n",
    "for i in range(nkpts-1):\n",
    "    \n",
    "    kx = np.linspace(k_points[path[i]][0], k_points[path[i+1]][0], npts)\n",
    "    ky = np.linspace(k_points[path[i]][1], k_points[path[i+1]][1], npts)\n",
    "    kz = np.linspace(k_points[path[i]][2], k_points[path[i+1]][2], npts)\n",
    "    \n",
    "    # remove points that repeat\n",
    "    if i != (nkpts-2):\n",
    "        kx = np.delete(kx, -1)\n",
    "        ky = np.delete(ky, -1)\n",
    "        kz = np.delete(kz, -1)\n",
    "        \n",
    "    kxlist = np.hstack((kxlist, kx))\n",
    "    kylist = np.hstack((kylist, ky))\n",
    "    kzlist = np.hstack((kzlist, kz))\n",
    "\n",
    "klist = np.vstack((kxlist, kylist, kzlist))\n",
    "np.save('k_path', klist)"
   ]
  },
  {
   "cell_type": "code",
   "execution_count": 97,
   "metadata": {},
   "outputs": [],
   "source": [
    "k_points = {'K': [1/3, 1/3, ],\n",
    "            'G': [0, 0, 0],\n",
    "            'M': [1/2, 0, 0],\n",
    "            'path': ['K', 'G', 'M', 'K'],\n",
    "            'n_sym_pts': 4,\n",
    "            'n_line_pts': 30\n",
    "           }"
   ]
  },
  {
   "cell_type": "code",
   "execution_count": 105,
   "metadata": {},
   "outputs": [
    {
     "data": {
      "text/plain": [
       "{'K': [0.3333333333333333, 0.3333333333333333, 0],\n",
       " 'G': [0, 0, 0],\n",
       " 'M': [0.5, 0, 0],\n",
       " 'path': ['K', 'G', 'M', 'K'],\n",
       " 'n_sym_pts': 4,\n",
       " 'n_line_pts': 30}"
      ]
     },
     "execution_count": 105,
     "metadata": {},
     "output_type": "execute_result"
    }
   ],
   "source": [
    "k_points"
   ]
  },
  {
   "cell_type": "code",
   "execution_count": 106,
   "metadata": {},
   "outputs": [
    {
     "data": {
      "text/plain": [
       "['K', 'G', 'M', 'K']"
      ]
     },
     "execution_count": 106,
     "metadata": {},
     "output_type": "execute_result"
    }
   ],
   "source": [
    "nkpts = k_points['n_sym_pts']\n",
    "npts = k_points['n_line_pts']\n",
    "path=k_points['path']\n",
    "path"
   ]
  },
  {
   "cell_type": "code",
   "execution_count": 103,
   "metadata": {},
   "outputs": [],
   "source": [
    "kxlist=[]\n",
    "kylist=[]\n",
    "kzlist=[]\n",
    "for i in range(nkpts-1):\n",
    "    \n",
    "    kx = np.linspace(k_points[path[i]][0], k_points[path[i+1]][0], npts)\n",
    "    ky = np.linspace(k_points[path[i]][1], k_points[path[i+1]][1], npts)\n",
    "    kz = np.linspace(k_points[path[i]][2], k_points[path[i+1]][2], npts)\n",
    "    if i != (nkpts-2):\n",
    "        kx = np.delete(kx, -1)\n",
    "        ky = np.delete(ky, -1)\n",
    "        kz = np.delete(kz, -1)\n",
    "    kxlist = np.hstack((kxlist, kx))\n",
    "    kylist = np.hstack((kylist, ky))\n",
    "    kzlist = np.hstack((kzlist, kz))\n",
    "\n",
    "klist = np.vstack((kxlist, kylist, kzlist))\n",
    "np.save('k_path', klist)"
   ]
  },
  {
   "cell_type": "code",
   "execution_count": 102,
   "metadata": {},
   "outputs": [
    {
     "data": {
      "text/plain": [
       "array([0.33333333, 0.32183908, 0.31034483, 0.29885057, 0.28735632,\n",
       "       0.27586207, 0.26436782, 0.25287356, 0.24137931, 0.22988506,\n",
       "       0.2183908 , 0.20689655, 0.1954023 , 0.18390805, 0.17241379,\n",
       "       0.16091954, 0.14942529, 0.13793103, 0.12643678, 0.11494253,\n",
       "       0.10344828, 0.09195402, 0.08045977, 0.06896552, 0.05747126,\n",
       "       0.04597701, 0.03448276, 0.02298851, 0.01149425, 0.        ,\n",
       "       0.01724138, 0.03448276, 0.05172414, 0.06896552, 0.0862069 ,\n",
       "       0.10344828, 0.12068966, 0.13793103, 0.15517241, 0.17241379,\n",
       "       0.18965517, 0.20689655, 0.22413793, 0.24137931, 0.25862069,\n",
       "       0.27586207, 0.29310345, 0.31034483, 0.32758621, 0.34482759,\n",
       "       0.36206897, 0.37931034, 0.39655172, 0.4137931 , 0.43103448,\n",
       "       0.44827586, 0.46551724, 0.48275862, 0.5       , 0.49425287,\n",
       "       0.48850575, 0.48275862, 0.47701149, 0.47126437, 0.46551724,\n",
       "       0.45977011, 0.45402299, 0.44827586, 0.44252874, 0.43678161,\n",
       "       0.43103448, 0.42528736, 0.41954023, 0.4137931 , 0.40804598,\n",
       "       0.40229885, 0.39655172, 0.3908046 , 0.38505747, 0.37931034,\n",
       "       0.37356322, 0.36781609, 0.36206897, 0.35632184, 0.35057471,\n",
       "       0.34482759, 0.33908046, 0.33333333])"
      ]
     },
     "execution_count": 102,
     "metadata": {},
     "output_type": "execute_result"
    }
   ],
   "source": [
    "klist[0]"
   ]
  },
  {
   "cell_type": "code",
   "execution_count": null,
   "metadata": {},
   "outputs": [],
   "source": []
  }
 ],
 "metadata": {
  "kernelspec": {
   "display_name": "Python 3",
   "language": "python",
   "name": "python3"
  },
  "language_info": {
   "codemirror_mode": {
    "name": "ipython",
    "version": 3
   },
   "file_extension": ".py",
   "mimetype": "text/x-python",
   "name": "python",
   "nbconvert_exporter": "python",
   "pygments_lexer": "ipython3",
   "version": "3.7.0"
  }
 },
 "nbformat": 4,
 "nbformat_minor": 2
}
