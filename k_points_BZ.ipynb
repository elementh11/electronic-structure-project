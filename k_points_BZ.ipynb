{
 "cells": [
  {
   "cell_type": "code",
   "execution_count": 1,
   "metadata": {},
   "outputs": [],
   "source": [
    "import numpy as np\n",
    "\n",
    "nk1 = 4\n",
    "nk2 = 3\n",
    "nk3 = 1\n",
    "\n",
    "kx = np.linspace(0, 1, nk1)\n",
    "ky = np.linspace(0, 1, nk2)\n",
    "kz = np.linspace(0, 1, nk3)"
   ]
  },
  {
   "cell_type": "code",
   "execution_count": 69,
   "metadata": {},
   "outputs": [],
   "source": [
    "nk1 = 4\n",
    "nk2 = 3\n",
    "nk3 = 1"
   ]
  },
  {
   "cell_type": "code",
   "execution_count": 70,
   "metadata": {},
   "outputs": [],
   "source": [
    "kx = np.linspace(0, 1, nk1)\n",
    "ky = np.linspace(0, 1, nk2)\n",
    "kz = np.linspace(0, 1, nk3)"
   ]
  },
  {
   "cell_type": "code",
   "execution_count": 4,
   "metadata": {},
   "outputs": [
    {
     "data": {
      "text/plain": [
       "array([[0., 0., 0.],\n",
       "       [0., 0., 0.],\n",
       "       [0., 0., 0.],\n",
       "       [0., 0., 0.],\n",
       "       [0., 0., 0.],\n",
       "       [0., 0., 0.],\n",
       "       [0., 0., 0.],\n",
       "       [0., 0., 0.],\n",
       "       [0., 0., 0.],\n",
       "       [0., 0., 0.],\n",
       "       [0., 0., 0.],\n",
       "       [0., 0., 0.]])"
      ]
     },
     "execution_count": 4,
     "metadata": {},
     "output_type": "execute_result"
    }
   ],
   "source": [
    "klist = np.zeros((nk1 * nk2 * nk3, 3))\n",
    "klist"
   ]
  },
  {
   "cell_type": "code",
   "execution_count": 71,
   "metadata": {},
   "outputs": [
    {
     "data": {
      "text/plain": [
       "array([[0.08333333],\n",
       "       [0.08333333],\n",
       "       [0.08333333],\n",
       "       [0.08333333],\n",
       "       [0.08333333],\n",
       "       [0.08333333],\n",
       "       [0.08333333],\n",
       "       [0.08333333],\n",
       "       [0.08333333],\n",
       "       [0.08333333],\n",
       "       [0.08333333],\n",
       "       [0.08333333]])"
      ]
     },
     "execution_count": 71,
     "metadata": {},
     "output_type": "execute_result"
    }
   ],
   "source": [
    "weightlist = np.ones((nk1 * nk2 * nk3, 1)) / (nk1 * nk2 * nk3)\n",
    "weightlist"
   ]
  },
  {
   "cell_type": "code",
   "execution_count": 72,
   "metadata": {},
   "outputs": [
    {
     "name": "stdout",
     "output_type": "stream",
     "text": [
      "[0. 0. 0.]\n",
      "[0.  0.5 0. ]\n",
      "[0. 1. 0.]\n",
      "[0.33333333 0.         0.        ]\n",
      "[0.33333333 0.5        0.        ]\n",
      "[0.33333333 1.         0.        ]\n",
      "[0.66666667 0.         0.        ]\n",
      "[0.66666667 0.5        0.        ]\n",
      "[0.66666667 1.         0.        ]\n",
      "[1. 0. 0.]\n",
      "[1.  0.5 0. ]\n",
      "[1. 1. 0.]\n"
     ]
    }
   ],
   "source": [
    "klist = np.empty([0,3])\n",
    "for k1 in kx:\n",
    "    k1val = np.array([k1, 0, 0]) if nk1 > 1 else np.array([0, 0, 0])\n",
    "    for k2 in ky:\n",
    "        k2val = np.array([0, k2, 0]) if nk2 > 1 else np.array([0, 0, 0])\n",
    "        for k3 in kz:\n",
    "            k3val = np.array([0, 0, k3]) if nk3 > 1 else np.array([0, 0, 0])\n",
    "            kval = k1val + k2val + k3val\n",
    "            print(kval)\n",
    "            klist = np.vstack((klist, kval))\n"
   ]
  },
  {
   "cell_type": "code",
   "execution_count": 78,
   "metadata": {},
   "outputs": [
    {
     "name": "stdout",
     "output_type": "stream",
     "text": [
      "[0. 0. 0.]\n",
      "[0.  0.5 0. ]\n",
      "[0. 1. 0.]\n",
      "[0.33333333 0.         0.        ]\n",
      "[0.33333333 0.5        0.        ]\n",
      "[0.33333333 1.         0.        ]\n",
      "[0.66666667 0.         0.        ]\n",
      "[0.66666667 0.5        0.        ]\n",
      "[0.66666667 1.         0.        ]\n",
      "[1. 0. 0.]\n",
      "[1.  0.5 0. ]\n",
      "[1. 1. 0.]\n"
     ]
    },
    {
     "data": {
      "text/plain": [
       "array([[0.        , 0.        , 0.        ],\n",
       "       [0.        , 0.5       , 0.        ],\n",
       "       [0.        , 1.        , 0.        ],\n",
       "       [0.33333333, 0.        , 0.        ],\n",
       "       [0.33333333, 0.5       , 0.        ],\n",
       "       [0.33333333, 1.        , 0.        ],\n",
       "       [0.66666667, 0.        , 0.        ],\n",
       "       [0.66666667, 0.5       , 0.        ],\n",
       "       [0.66666667, 1.        , 0.        ],\n",
       "       [1.        , 0.        , 0.        ],\n",
       "       [1.        , 0.5       , 0.        ],\n",
       "       [1.        , 1.        , 0.        ]])"
      ]
     },
     "execution_count": 78,
     "metadata": {},
     "output_type": "execute_result"
    }
   ],
   "source": [
    "def gen_kpts(nk1, nk2, nk3):\n",
    "    kx = np.linspace(0, 1, nk1)\n",
    "    ky = np.linspace(0, 1, nk2)\n",
    "    kz = np.linspace(0, 1, nk3)\n",
    "    klist = np.empty([0,3])\n",
    "    for k1 in kx:\n",
    "        k1val = np.array([k1, 0, 0]) if nk1 > 1 else np.array([0, 0, 0])\n",
    "        for k2 in ky:\n",
    "            k2val = np.array([0, k2, 0]) if nk2 > 1 else np.array([0, 0, 0])\n",
    "            for k3 in kz:\n",
    "                k3val = np.array([0, 0, k3]) if nk3 > 1 else np.array([0, 0, 0])\n",
    "                kval = k1val + k2val + k3val\n",
    "                print(kval)\n",
    "                klist = np.vstack((klist, kval))\n",
    "    return klist\n",
    "\n",
    "gen_kpts(nk1, nk2, nk3)"
   ]
  },
  {
   "cell_type": "code",
   "execution_count": 80,
   "metadata": {},
   "outputs": [],
   "source": [
    "def gen_kpts(nk1, nk2, nk3):\n",
    "    kx = np.linspace(0, 1, nk1)\n",
    "    ky = np.linspace(0, 1, nk2)\n",
    "    kz = np.linspace(0, 1, nk3)\n",
    "    weightlist = np.ones((nk1 * nk2 * nk3, 1)) / (nk1 * nk2 * nk3)\n",
    "    klist = np.empty([0,3])\n",
    "\n",
    "    for k1 in kx:\n",
    "        k1val = np.array([k1, 0, 0]) if nk1 > 1 else np.array([0, 0, 0])\n",
    "        for k2 in ky:\n",
    "            k2val = np.array([0, k2, 0]) if nk2 > 1 else np.array([0, 0, 0])\n",
    "            for k3 in kz:\n",
    "                k3val = np.array([0, 0, k3]) if nk3 > 1 else np.array([0, 0, 0])\n",
    "                kval = k1val + k2val + k3val\n",
    "                print(kval)\n",
    "                klist = np.vstack((klist, kval))\n",
    "    \n",
    "    list = np.hstack((klist, weightlist))\n",
    "\n",
    "    return list"
   ]
  },
  {
   "cell_type": "code",
   "execution_count": 81,
   "metadata": {},
   "outputs": [
    {
     "name": "stdout",
     "output_type": "stream",
     "text": [
      "[0. 0. 0.]\n",
      "[0.  0.5 0. ]\n",
      "[0. 1. 0.]\n",
      "[0.33333333 0.         0.        ]\n",
      "[0.33333333 0.5        0.        ]\n",
      "[0.33333333 1.         0.        ]\n",
      "[0.66666667 0.         0.        ]\n",
      "[0.66666667 0.5        0.        ]\n",
      "[0.66666667 1.         0.        ]\n",
      "[1. 0. 0.]\n",
      "[1.  0.5 0. ]\n",
      "[1. 1. 0.]\n"
     ]
    },
    {
     "data": {
      "text/plain": [
       "array([[0.        , 0.        , 0.        , 0.08333333],\n",
       "       [0.        , 0.5       , 0.        , 0.08333333],\n",
       "       [0.        , 1.        , 0.        , 0.08333333],\n",
       "       [0.33333333, 0.        , 0.        , 0.08333333],\n",
       "       [0.33333333, 0.5       , 0.        , 0.08333333],\n",
       "       [0.33333333, 1.        , 0.        , 0.08333333],\n",
       "       [0.66666667, 0.        , 0.        , 0.08333333],\n",
       "       [0.66666667, 0.5       , 0.        , 0.08333333],\n",
       "       [0.66666667, 1.        , 0.        , 0.08333333],\n",
       "       [1.        , 0.        , 0.        , 0.08333333],\n",
       "       [1.        , 0.5       , 0.        , 0.08333333],\n",
       "       [1.        , 1.        , 0.        , 0.08333333]])"
      ]
     },
     "execution_count": 81,
     "metadata": {},
     "output_type": "execute_result"
    }
   ],
   "source": [
    "gen_kpts(4, 3, 1)"
   ]
  },
  {
   "cell_type": "code",
   "execution_count": 77,
   "metadata": {},
   "outputs": [
    {
     "data": {
      "text/plain": [
       "array([[0.        , 0.        , 0.        , 0.08333333],\n",
       "       [0.        , 0.5       , 0.        , 0.08333333],\n",
       "       [0.        , 1.        , 0.        , 0.08333333],\n",
       "       [0.33333333, 0.        , 0.        , 0.08333333],\n",
       "       [0.33333333, 0.5       , 0.        , 0.08333333],\n",
       "       [0.33333333, 1.        , 0.        , 0.08333333],\n",
       "       [0.66666667, 0.        , 0.        , 0.08333333],\n",
       "       [0.66666667, 0.5       , 0.        , 0.08333333],\n",
       "       [0.66666667, 1.        , 0.        , 0.08333333],\n",
       "       [1.        , 0.        , 0.        , 0.08333333],\n",
       "       [1.        , 0.5       , 0.        , 0.08333333],\n",
       "       [1.        , 1.        , 0.        , 0.08333333]])"
      ]
     },
     "execution_count": 77,
     "metadata": {},
     "output_type": "execute_result"
    }
   ],
   "source": [
    "list"
   ]
  },
  {
   "cell_type": "code",
   "execution_count": 82,
   "metadata": {},
   "outputs": [],
   "source": [
    "np.savetxt(\"kptBZ.csv\", list, fmt=\"%10.6f\", delimiter=\",\")"
   ]
  },
  {
   "cell_type": "code",
   "execution_count": 83,
   "metadata": {},
   "outputs": [
    {
     "data": {
      "text/plain": [
       "0.06666666666666667"
      ]
     },
     "execution_count": 83,
     "metadata": {},
     "output_type": "execute_result"
    }
   ],
   "source": [
    "1/15"
   ]
  },
  {
   "cell_type": "code",
   "execution_count": 84,
   "metadata": {},
   "outputs": [
    {
     "data": {
      "text/plain": [
       "0.04"
      ]
     },
     "execution_count": 84,
     "metadata": {},
     "output_type": "execute_result"
    }
   ],
   "source": [
    "1/25"
   ]
  },
  {
   "cell_type": "code",
   "execution_count": null,
   "metadata": {},
   "outputs": [],
   "source": []
  }
 ],
 "metadata": {
  "kernelspec": {
   "display_name": "Python 3",
   "language": "python",
   "name": "python3"
  },
  "language_info": {
   "codemirror_mode": {
    "name": "ipython",
    "version": 3
   },
   "file_extension": ".py",
   "mimetype": "text/x-python",
   "name": "python",
   "nbconvert_exporter": "python",
   "pygments_lexer": "ipython3",
   "version": "3.7.3"
  }
 },
 "nbformat": 4,
 "nbformat_minor": 2
}
